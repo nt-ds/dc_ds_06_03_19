{
 "cells": [
  {
   "cell_type": "markdown",
   "metadata": {},
   "source": [
    "![python logo](https://www.python.org/static/community_logos/python-logo-master-v3-TM.png)\n",
    "\n",
    "\n",
    "\n",
    "# Python has a lot of great [documentation](https://www.python.org/about/gettingstarted/)\n",
    "\n",
    "\n",
    "Today as a first step we want you to be able to:\n",
    "- Make use of assigning variables\n",
    "- Classify and explain integers, float, strings, boolean, list, dictionary, and tuple\n",
    "- Identify the comparators and boolean operators\n",
    "- Make use of a `list`: indexing, ranges, appending\n",
    "- Make use of a `dict`: identifying, creating, navigating\n",
    "- Apply a for loop to lists and dictionaries\n",
    "\n",
    "\n",
    "### To do all that, we are going to code up versions of a bento box:\n",
    "\n",
    "![bento box image](https://images.pexels.com/photos/884596/pexels-photo-884596.jpeg?auto=compress&cs=tinysrgb&dpr=2&h=750&w=1260)\n",
    "\n",
    "\n",
    "### Bento boxes can have multiple ingredients and choices\n",
    "\n",
    "We want to write a script that can combine everyone's bento order into one data collection and print each item for the restaurant. \n",
    "\n",
    "#### Variable assignment \n",
    "\n",
    "Let's start with our first bento oder:\n",
    "\n",
    "```\n",
    "main = \"rice\"\n",
    "protein = \"salmon\"\n",
    "ozofprotein = 4.5\n",
    "number_of_sides = 3\n",
    "side1 = 'seaweed'\n",
    "side2 = 'tempura'\n",
    "side2 =  'turnip pickle'\n",
    "greatbento = True\n",
    "```"
   ]
  },
  {
   "cell_type": "code",
   "execution_count": 1,
   "metadata": {},
   "outputs": [],
   "source": [
    "main = \"rice\"\n",
    "protein = \"salmon\"\n",
    "ozofprotein = 4.5\n",
    "number_of_sides = 3\n",
    "side1 = 'seaweed'\n",
    "side2 = 'tempura'\n",
    "side2 =  'turnip pickle'\n",
    "greatbento = True"
   ]
  },
  {
   "cell_type": "markdown",
   "metadata": {},
   "source": [
    "Now, if we wanted to change our protein to ginger chicken, how would we do that?"
   ]
  },
  {
   "cell_type": "code",
   "execution_count": 2,
   "metadata": {},
   "outputs": [],
   "source": [
    "protein = \"ginger chicken\""
   ]
  },
  {
   "cell_type": "markdown",
   "metadata": {},
   "source": [
    "We can reassign variable values easily.\n",
    "\n",
    "Now, we assigned those variables one at a time. We also can assign multiple values at once:\n",
    "\n",
    "`side1, side2, side3 = \"carrots\", \"kimchi\", \"mushrooms\"`\n",
    "\n",
    "Update your side order to match your preference. \n",
    "\n",
    "Then use `print()` to confirm the variable change"
   ]
  },
  {
   "cell_type": "code",
   "execution_count": 5,
   "metadata": {},
   "outputs": [],
   "source": [
    "side1, side2, side3 = \"fried rice\", \"kimchi\", \"mushrooms\""
   ]
  },
  {
   "cell_type": "markdown",
   "metadata": {},
   "source": [
    "#### Variable Types\n",
    "\n",
    "Each variable in our bento box has a `type`. \n",
    "\n",
    "```\n",
    "type(side1)\n",
    "str\n",
    "```\n",
    "Run `type()` on the remaining variables to explore the type options."
   ]
  },
  {
   "cell_type": "code",
   "execution_count": 9,
   "metadata": {},
   "outputs": [
    {
     "data": {
      "text/plain": [
       "bool"
      ]
     },
     "execution_count": 9,
     "metadata": {},
     "output_type": "execute_result"
    }
   ],
   "source": [
    "type(greatbento)"
   ]
  },
  {
   "cell_type": "markdown",
   "metadata": {},
   "source": [
    "#### Conditionals\n",
    "\n",
    "Now what if you have food allergies, or want to be able to evaluate a variable before changing it?\n",
    "\n",
    "Well you're in luck, cause we have if statements and conditionals and control flow operators.\n",
    "\n",
    "\n",
    "\n",
    "Control flow operators are:\n",
    "```\n",
    "==\n",
    "!=\n",
    ">\n",
    "<\n",
    "<=\n",
    ">=\n",
    "```\n",
    "\n",
    "\n",
    "Decision Making is like this:\n",
    "```\n",
    "if protein == 'salmon':\n",
    "  print(\"I love salmon!\")\n",
    "```\n",
    "\n",
    "![how conditional works](decision_making.jpg)\n",
    "\n",
    "\n",
    "Will I like this bento box?\n",
    "```\n",
    "if main == 'rice':\n",
    "  print(\"no carbs, please!\")\n",
    "elif ozofprotein >= 2.5:\n",
    "  print(\"too much!\")\n",
    "else:\n",
    "  print(\"I have no problems with this order\")\n",
    "```\n",
    "\n",
    "\n",
    "The [tools](https://docs.python.org/3/tutorial/controlflow.html)  used in conditionals are `if`, `elif`, and `else`\n",
    "\n",
    "Update the above code example, but rather than `print` set `greatbento` equal to `True` or `False` depending on the values of the bento box ingredients."
   ]
  },
  {
   "cell_type": "code",
   "execution_count": 13,
   "metadata": {},
   "outputs": [
    {
     "name": "stdout",
     "output_type": "stream",
     "text": [
      "False\n"
     ]
    }
   ],
   "source": [
    "if main != 'rice':\n",
    "    print(\"no carbs, please!\")\n",
    "elif ozofprotein <= 2.5:\n",
    "    print(\"too much!\")\n",
    "else:\n",
    "    greatbento = False\n",
    "    \n",
    "print(greatbento)"
   ]
  },
  {
   "cell_type": "markdown",
   "metadata": {},
   "source": [
    "# Using Lists: Indexing, ranges, appending"
   ]
  },
  {
   "cell_type": "markdown",
   "metadata": {},
   "source": [
    "#### Lists\n",
    "\n",
    "Writing out all those ingredients individually is a pain, let's put them in a list!\n",
    "\n",
    "![dog-to-do-list](https://media.giphy.com/media/xTiTnuhyBF54B852nK/giphy.gif)\n",
    "\n",
    "\n",
    "```\n",
    "bento_box_list = [\"rice\", \"chicken teriyaki\", \"tempura\", \"soy sauce\", \"ginger\", \"seaweed\"]\n",
    "bento_box_list[2]\n",
    "\n",
    "Output: tempura\n",
    "\n",
    "numbers[0:2]\n",
    "\n",
    "Output: [\"rice\", \"chicken teriyaki\"]\n",
    "```\n",
    "To append to a list:\n",
    "\n",
    "```\n",
    "bento_box_list = [\"rice\", \"chicken teriyaki\", \"tempura\", \"soy sauce\", \"ginger\", \"seaweed\"]\n",
    "bento_box_list.append(\"wasabi\")\n",
    "print(bento_box_list)\n",
    "\n",
    "Output: [\"rice\", \"chicken teriyaki\", \"tempura\", \"soy sauce\", \"ginger\", \"seaweed\", \"wasabi\"]\n",
    "```\n",
    "\n",
    "Now, let's put our order in a readable format using `join`\n",
    "\n",
    "\n",
    "```\n",
    "print('I'd like my bento box to contain: \" + \", \".join(bento_box_list[:-1]+ \", and \"+bento_box_list[-1])\n",
    "```\n",
    "\n",
    "Make a list of your bento box ingredients!  Have it print out in a legible sentence!"
   ]
  },
  {
   "cell_type": "code",
   "execution_count": 21,
   "metadata": {},
   "outputs": [
    {
     "data": {
      "text/plain": [
       "['soy sauce', 'ginger']"
      ]
     },
     "execution_count": 21,
     "metadata": {},
     "output_type": "execute_result"
    }
   ],
   "source": [
    "bento_box_list = [\"rice\", \"chicken teriyaki\", \"tempura\", \"soy sauce\", \"ginger\", \"seaweed\"]\n",
    "bento_box_list[-3:-1]"
   ]
  },
  {
   "cell_type": "code",
   "execution_count": 22,
   "metadata": {},
   "outputs": [
    {
     "data": {
      "text/plain": [
       "['hi', 'hi', 'hi']"
      ]
     },
     "execution_count": 22,
     "metadata": {},
     "output_type": "execute_result"
    }
   ],
   "source": [
    "[\"hi\"] * 3"
   ]
  },
  {
   "cell_type": "code",
   "execution_count": 23,
   "metadata": {},
   "outputs": [
    {
     "data": {
      "text/plain": [
       "['hi', 'hello']"
      ]
     },
     "execution_count": 23,
     "metadata": {},
     "output_type": "execute_result"
    }
   ],
   "source": [
    "[\"hi\"] + [\"hello\"]"
   ]
  },
  {
   "cell_type": "code",
   "execution_count": 24,
   "metadata": {},
   "outputs": [
    {
     "name": "stdout",
     "output_type": "stream",
     "text": [
      "['rice', 'chicken teriyaki', 'tempura', 'soy sauce', 'ginger', 'seaweed']\n",
      "['rice', 'chicken teriyaki', 'tempura', 'soy sauce', 'ginger']\n",
      "['chicken teriyaki', 'tempura', 'soy sauce', 'ginger']\n"
     ]
    }
   ],
   "source": [
    "print(bento_box_list)\n",
    "bento_box_list.pop()\n",
    "print(bento_box_list)\n",
    "bento_box_list.pop(0)\n",
    "print(bento_box_list)"
   ]
  },
  {
   "cell_type": "code",
   "execution_count": 25,
   "metadata": {},
   "outputs": [
    {
     "name": "stdout",
     "output_type": "stream",
     "text": [
      "['chicken teriyaki', 'tempura', 'soy sauce', 'ginger', 'noodles']\n"
     ]
    }
   ],
   "source": [
    "bento_box_list.append(\"noodles\")\n",
    "print(bento_box_list)"
   ]
  },
  {
   "cell_type": "code",
   "execution_count": 26,
   "metadata": {},
   "outputs": [
    {
     "name": "stdout",
     "output_type": "stream",
     "text": [
      "['chicken teriyaki', 'tempura', 'soy sauce', 'ginger', 'noodles', 'chicken teriyaki', 'tempura', 'soy sauce', 'ginger', 'noodles']\n"
     ]
    }
   ],
   "source": [
    "bento_box_list.extend(bento_box_list)\n",
    "print(bento_box_list)"
   ]
  },
  {
   "cell_type": "code",
   "execution_count": 27,
   "metadata": {},
   "outputs": [
    {
     "name": "stdout",
     "output_type": "stream",
     "text": [
      "['chicken teriyaki', 'tempura', 'seaweed salad', 'soy sauce', 'ginger', 'noodles', 'chicken teriyaki', 'tempura', 'soy sauce', 'ginger', 'noodles']\n"
     ]
    }
   ],
   "source": [
    "bento_box_list.insert(2, \"seaweed salad\")\n",
    "print(bento_box_list)"
   ]
  },
  {
   "cell_type": "code",
   "execution_count": 28,
   "metadata": {},
   "outputs": [
    {
     "name": "stdout",
     "output_type": "stream",
     "text": [
      "140684039928072\n",
      "140684039928072\n",
      "140684039928072\n"
     ]
    }
   ],
   "source": [
    "print(id(bento_box_list))\n",
    "bento_box_list.insert(2, \"dragon roll\")\n",
    "print(id(bento_box_list))\n",
    "bento_box_list.pop()\n",
    "print(id(bento_box_list))"
   ]
  },
  {
   "cell_type": "code",
   "execution_count": 30,
   "metadata": {},
   "outputs": [
    {
     "name": "stdout",
     "output_type": "stream",
     "text": [
      "140684031977672\n",
      "140684039459400\n",
      "140684031977672\n",
      "140684039459400\n"
     ]
    }
   ],
   "source": [
    "hey = [\"hey\"]\n",
    "print(id(hey))\n",
    "sup = [\"hey\"]\n",
    "print(id(sup))\n",
    "sup.append(\"sup\")\n",
    "print(id(hey))\n",
    "print(id(sup))"
   ]
  },
  {
   "cell_type": "code",
   "execution_count": 34,
   "metadata": {},
   "outputs": [
    {
     "name": "stdout",
     "output_type": "stream",
     "text": [
      "140684029378696\n",
      "140684029378696\n",
      "140684029378696\n",
      "140684029378696\n",
      "['hey', 'sup']\n",
      "['hey', 'sup']\n"
     ]
    }
   ],
   "source": [
    "hey = [\"hey\"]\n",
    "print(id(hey))\n",
    "sup = hey\n",
    "print(id(sup))\n",
    "sup.append(\"sup\")\n",
    "print(id(hey))\n",
    "print(id(sup))\n",
    "print(hey)\n",
    "print(sup)"
   ]
  },
  {
   "cell_type": "code",
   "execution_count": 31,
   "metadata": {},
   "outputs": [
    {
     "data": {
      "text/plain": [
       "('hey', 'sup')"
      ]
     },
     "execution_count": 31,
     "metadata": {},
     "output_type": "execute_result"
    }
   ],
   "source": [
    "tuple(sup)"
   ]
  },
  {
   "cell_type": "markdown",
   "metadata": {},
   "source": [
    "#### Dictionaries\n",
    "\n",
    "![dictionary](https://images.pexels.com/photos/270233/pexels-photo-270233.jpeg?auto=compress&cs=tinysrgb&dpr=2&w=500)\n",
    "\n",
    "No, not that kind! \n",
    "\n",
    "With your list above, someone would need to tell you that \"rice\" is the main and \"chicken\" is the protein. \n",
    "\n",
    "Dictionaries let you assign **key** and **value** pairs. \n",
    "\n",
    "Rather than using **indexing** you use **keys** to return values.\n",
    "\n",
    "```\n",
    "bento_box_dict = {'ingredient1': 'rice', 'ingredient2': 'unagi', 'ingredient3': 'miso soup'}\n",
    "```\n",
    "To get an element in the dictionary:\n",
    "```\n",
    "print(bento_box_dict['ingredient2'])\n",
    "```\n",
    "\n",
    "Update your bento_box_list to be a dictionary. Make sure to run `type()` on your dictionary to confirm it is successful."
   ]
  },
  {
   "cell_type": "code",
   "execution_count": 35,
   "metadata": {},
   "outputs": [],
   "source": [
    "bento_box_dict = {'ingredient1': 'rice', 'ingredient2': 'unagi', 'ingredient3': 'miso soup'}"
   ]
  },
  {
   "cell_type": "code",
   "execution_count": 36,
   "metadata": {},
   "outputs": [
    {
     "data": {
      "text/plain": [
       "'rice'"
      ]
     },
     "execution_count": 36,
     "metadata": {},
     "output_type": "execute_result"
    }
   ],
   "source": [
    "bento_box_dict[\"ingredient1\"]"
   ]
  },
  {
   "cell_type": "code",
   "execution_count": 37,
   "metadata": {},
   "outputs": [
    {
     "data": {
      "text/plain": [
       "'rice'"
      ]
     },
     "execution_count": 37,
     "metadata": {},
     "output_type": "execute_result"
    }
   ],
   "source": [
    "bento_box_dict.get(\"ingredient1\")"
   ]
  },
  {
   "cell_type": "code",
   "execution_count": 39,
   "metadata": {},
   "outputs": [
    {
     "ename": "KeyError",
     "evalue": "'ingredient4'",
     "output_type": "error",
     "traceback": [
      "\u001b[0;31m---------------------------------------------------------------------------\u001b[0m",
      "\u001b[0;31mKeyError\u001b[0m                                  Traceback (most recent call last)",
      "\u001b[0;32m<ipython-input-39-154ba28640f4>\u001b[0m in \u001b[0;36m<module>\u001b[0;34m\u001b[0m\n\u001b[0;32m----> 1\u001b[0;31m \u001b[0mprint\u001b[0m\u001b[0;34m(\u001b[0m\u001b[0mbento_box_dict\u001b[0m\u001b[0;34m[\u001b[0m\u001b[0;34m\"ingredient4\"\u001b[0m\u001b[0;34m]\u001b[0m\u001b[0;34m)\u001b[0m\u001b[0;34m\u001b[0m\u001b[0;34m\u001b[0m\u001b[0m\n\u001b[0m",
      "\u001b[0;31mKeyError\u001b[0m: 'ingredient4'"
     ]
    }
   ],
   "source": [
    "print(bento_box_dict[\"ingredient4\"])"
   ]
  },
  {
   "cell_type": "code",
   "execution_count": 40,
   "metadata": {},
   "outputs": [
    {
     "name": "stdout",
     "output_type": "stream",
     "text": [
      "None\n"
     ]
    }
   ],
   "source": [
    "print(bento_box_dict.get(\"ingredient4\"))"
   ]
  },
  {
   "cell_type": "markdown",
   "metadata": {},
   "source": [
    "Now, to make it even better, you can nest **DICTIONARIES** INSIDE of **LISTS**\n",
    "\n",
    "```\n",
    "group_lunch = [\n",
    "    {'ingredient1': 'rice', 'ingredient2': 'unagi', 'ingredient3': 'miso soup'},\n",
    "    {'ingredient1': 'seaweed', 'ingredient2': 'tempura', 'ingredient3': 'miso soup'},\n",
    "    {'ingredient1': 'hamburger', 'ingredient2': 'french fries', 'ingredient3': 'milkshake'}\n",
    "]\n",
    "```\n",
    "\n",
    "try calling elements of group lunch and see what you get!"
   ]
  },
  {
   "cell_type": "code",
   "execution_count": null,
   "metadata": {},
   "outputs": [],
   "source": []
  },
  {
   "cell_type": "markdown",
   "metadata": {},
   "source": [
    "Talk with your neighbors to get a few different bento box orders into a group order. Please limit each order to 5 ingredients. "
   ]
  },
  {
   "cell_type": "code",
   "execution_count": null,
   "metadata": {},
   "outputs": [],
   "source": []
  },
  {
   "cell_type": "markdown",
   "metadata": {},
   "source": [
    "#### For loops\n",
    "\n",
    "Okay, is anyone confused about for-loops? \n",
    "\n",
    "(if so - ask me about laundry)\n",
    "\n",
    "If NOT:\n",
    "\n",
    "```\n",
    "group_lunch = [\n",
    "    {'ingredient1': 'rice', 'ingredient2': 'unagi', 'ingredient3': 'miso soup'},\n",
    "    {'ingredient1': 'seaweed', 'ingredient2': 'tempura', 'ingredient3': 'miso soup'},\n",
    "    {'ingredient1': 'hamburger', 'ingredient2': 'french fries', 'ingredient3': 'milkshake'}\n",
    "]\n",
    "```\n",
    "\n",
    "write a loop to print first ingredient in everyone's bento order.\n",
    "\n"
   ]
  },
  {
   "cell_type": "code",
   "execution_count": null,
   "metadata": {},
   "outputs": [],
   "source": []
  },
  {
   "cell_type": "markdown",
   "metadata": {},
   "source": [
    "### Integration\n",
    "\n",
    "Write a for loop that will go through and print all the orders as a readable sentences. "
   ]
  },
  {
   "cell_type": "code",
   "execution_count": null,
   "metadata": {},
   "outputs": [],
   "source": []
  },
  {
   "cell_type": "markdown",
   "metadata": {},
   "source": [
    "### Reflection:\n",
    "\n",
    "What's an situation where you could use lists and loops to automate a process?\n"
   ]
  },
  {
   "cell_type": "code",
   "execution_count": null,
   "metadata": {},
   "outputs": [],
   "source": []
  }
 ],
 "metadata": {
  "kernelspec": {
   "display_name": "Python 3",
   "language": "python",
   "name": "python3"
  },
  "language_info": {
   "codemirror_mode": {
    "name": "ipython",
    "version": 3
   },
   "file_extension": ".py",
   "mimetype": "text/x-python",
   "name": "python",
   "nbconvert_exporter": "python",
   "pygments_lexer": "ipython3",
   "version": "3.7.3"
  }
 },
 "nbformat": 4,
 "nbformat_minor": 2
}
